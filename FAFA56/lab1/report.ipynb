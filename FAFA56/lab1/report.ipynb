{
  "cells": [
    {
      "cell_type": "code",
      "execution_count": 18,
      "id": "ea64ed0e",
      "metadata": {
        "id": "ea64ed0e"
      },
      "outputs": [],
      "source": [
        "# import packages\n",
        "import matplotlib.pyplot as plt\n",
        "import numpy as np"
      ]
    },
    {
      "cell_type": "markdown",
      "id": "5be33e0a",
      "metadata": {
        "id": "5be33e0a"
      },
      "source": [
        "# Short report: Experimental methods/vibrating beams\n",
        "\n",
        "Names: Åke Amcoff, Gustav Ulvenblad\n",
        "\n",
        "Date of lab session: 2024-09-06\n",
        "\n",
        "Lab supervisor: Julia Valderas\n",
        "\n",
        "## Introduction\n",
        "\n",
        "The purpose of this lab is to determine the formula for the oscillation period of a horizontal beam as one of the ends of the beam oscillates up and down."
      ]
    },
    {
      "cell_type": "markdown",
      "id": "974c408c",
      "metadata": {
        "id": "974c408c"
      },
      "source": [
        "## Variables and ansatz\n",
        "\n",
        "The variables that we concluded may impact the oscillation period are the following:\n",
        "- The density $\\rho \\space [\\text{kg}\\text{m}^{-3}]$ of the beam, since it affects the beam's inertia and in turn its acceleration.\n",
        "- The length $L \\space [\\text{m}]$ of the free-swinging part of the beam, since it affects the beam's moment of inertia.\n",
        "- The elastic modulus $E \\space [\\text{kg}\\text{m}^{-1}\\text{s}^-2]$ of the beam -- the stiffness should affect the oscillation period.\n",
        "- The thickness $t \\space [\\text{m}]$ of the beam: this should also affect the beam's stiffness.\n",
        "- The width $w \\space [\\text{m}]$ of the beam -- however, we decided to exclude this because it turns out its effect on the oscillation period is negligible compared to the variables mentioned above.\n",
        "- The gravitational acceleration $g \\space [\\text{m}\\text{s}^{-2}]$ -- we decided to exclude this as it turns out that if you rotate the setup so that the beams swing perpindicular to the gravitational field, the oscillation period will remain the same. Thus, $g$ does not affect the period.\n",
        "\n",
        "That leaves us with the following ansatz for the period $T$:\n",
        "\n",
        "$$T=k \\rho^a L^b E^c t^d$$\n",
        "\n",
        "with some dimensionless constant $k$."
      ]
    },
    {
      "cell_type": "markdown",
      "id": "e46e4204",
      "metadata": {
        "id": "e46e4204"
      },
      "source": [
        "## Dimensional analysis\n",
        "\n",
        "Dimensional analysis of the expression in the Ansatz yields\n",
        "\n",
        "$$[\\text{s}]=[\\text{kg} \\text{m}^{-3}]^a [\\text{m}]^b [\\text{kg} \\text{m}^{-1} \\text{s}^{-2}]^c [\\text{m}]^d.$$\n",
        "\n",
        "$$\\begin{cases}\n",
        "  [\\text{kg}]: 0=a+c\\\\\n",
        "  [\\text{m}]: 0=-3a+b-c+d\\\\\n",
        "  [\\text{s}]: 1=-2c\\\\\n",
        "\\end{cases}$$\n",
        "\n",
        "Since the system of equations contains more variables than equations, it lacks a unique solution.\n",
        "\n",
        "$$\\begin{cases}\n",
        "  1/2=a\\\\\n",
        "  -1/2=c\\\\\n",
        "  1=b+d\\\\\n",
        "\\end{cases}$$\n",
        "\n",
        "To find the values of $b$ and $d$ (the exponents of $L$ and $t$, respectively), we need to perform an experiment."
      ]
    },
    {
      "cell_type": "markdown",
      "id": "d39eccb6",
      "metadata": {
        "id": "d39eccb6"
      },
      "source": [
        "## Experiments"
      ]
    },
    {
      "cell_type": "markdown",
      "id": "21065b11",
      "metadata": {
        "id": "21065b11"
      },
      "source": [
        "### Variable 1 ($L$)\n",
        "\n",
        "The oscillation period $T$ was measured for different free-swinging lengths $L$ of the same steel beam. We chose to vary $L$ as it is relatively easy to do so, only requiring us to move the clamp holding the beam between measurements (as opposed to switching beam (materials) for varying $\\rho$, $E$ or $t$).\n",
        "\n",
        "Placing all variables except $L$ inside a new constant $k_1=k\\rho^a E^c t^d$, we get\n",
        "\n",
        "$$T=k_1 L^b.$$\n",
        "\n",
        "Logarithmizing both sides, we get\n",
        "\n",
        "$$\\ln T=\\ln k_1 + b\\ln L.$$\n",
        "\n",
        "Note that this is a linear function of $\\ln L$ with slope $b$."
      ]
    },
    {
      "cell_type": "code",
      "execution_count": 19,
      "id": "bc26be12",
      "metadata": {
        "id": "bc26be12",
        "outputId": "02b9711a-32bc-4eec-b996-54f09721e81d"
      },
      "outputs": [
        {
          "name": "stdout",
          "output_type": "stream",
          "text": [
            "b =  2.009675691777529\n"
          ]
        }
      ],
      "source": [
        "L = [0.777,  0.777,  0.777,  0.638,  0.638,  0.638,  0.531,  0.531,  0.531,  0.436,  0.436,  0.436]\n",
        "T = [0.2419, 0.2424, 0.2423, 0.1715, 0.1695, 0.1683, 0.1151, 0.1150, 0.1149, 0.0766, 0.0759, 0.0765]\n",
        "\n",
        "lL = np.log(L)\n",
        "lT = np.log(T)\n",
        "z = np.polyfit(lL, lT, 1)\n",
        "\n",
        "print(\"b = \", z[0])"
      ]
    },
    {
      "cell_type": "code",
      "execution_count": 20,
      "id": "c0af8905",
      "metadata": {},
      "outputs": [
        {
          "data": {
            "image/png": "[encoded data removed]",
            "text/plain": [
              "<Figure size 640x480 with 1 Axes>"
            ]
          },
          "metadata": {},
          "output_type": "display_data"
        }
      ],
      "source": [
        "p = np.poly1d(z)\n",
        "plt.plot(lL, lT, 'x')\n",
        "plt.plot(lL, p(lL), 'r-')\n",
        "\n",
        "plt.xlabel('ln(L / m)')\n",
        "plt.ylabel('ln(T / s)')\n",
        "plt.grid(True)\n",
        "plt.show()"
      ]
    },
    {
      "cell_type": "markdown",
      "id": "20d20b11",
      "metadata": {},
      "source": [
        "_Oscillation time as a function of length of free-swinging part of beam._"
      ]
    },
    {
      "cell_type": "markdown",
      "id": "7fc53c91",
      "metadata": {},
      "source": [
        "The slope of the linear regression was found to be $b = 2$. Thus, the exponent of $L$ in the formula is $b=2$."
      ]
    },
    {
      "cell_type": "markdown",
      "id": "64c34f89",
      "metadata": {
        "id": "64c34f89"
      },
      "source": [
        "### Variable 2 ($t$)\n",
        "\n",
        "With the empirical value of $b=2$ in combination with the dimensional analysis, we can conclude that the exponent of $t$ in the formula is $d=-1$. Hence, the formula for $T$ is\n",
        "\n",
        "$$T=\\frac{k L^2}{t} \\sqrt{\\frac{\\rho}{E}}$$"
      ]
    },
    {
      "cell_type": "markdown",
      "id": "64887995",
      "metadata": {
        "id": "64887995"
      },
      "source": [
        "### Dimensionless constant $k$\n",
        "\n",
        "The dimensionless constant was calculated by measuring the period $T$ for different beam configurations. We combined the previous $L$-dependent measurements (plugged into the deducted formula) with 18 new measurements where the material (and thus $E$ and $\\rho$) and $t$ was varied. The additional measurements were performed in order to increase the precision of $k$. By plotting the data with $\\frac{L^2}{t}\\sqrt{\\frac{\\rho}{E}}$ on the x-axis and $T$ on the y-axis, the slope of the linear regression line gives the value of $k$."
      ]
    },
    {
      "cell_type": "code",
      "execution_count": 21,
      "id": "5e750bf1",
      "metadata": {
        "id": "5e750bf1",
        "outputId": "142697d2-cbbf-498c-d1df-a19ab4fbd826"
      },
      "outputs": [
        {
          "name": "stdout",
          "output_type": "stream",
          "text": [
            "k =  6.49439152139969\n"
          ]
        }
      ],
      "source": [
        "def calc_x(density, length, elastic_modulus, thickness):\n",
        "    return (length ** 2 / thickness) * np.sqrt(density / elastic_modulus)\n",
        "\n",
        "def steel_x(length):\n",
        "    return calc_x(7.8e3, length, 2e11, 3.25e-3)\n",
        "\n",
        "def alu_x(length):\n",
        "    return calc_x(2.7e3, length, 7e10, 5.4e-3)\n",
        "\n",
        "x = [\n",
        "    steel_x(0.590), steel_x(0.590), steel_x(0.590),\n",
        "    steel_x(0.466), steel_x(0.466), steel_x(0.466),\n",
        "    steel_x(0.680), steel_x(0.680), steel_x(0.680),\n",
        "    alu_x(0.653), alu_x(0.653), alu_x(0.653),\n",
        "    alu_x(0.542), alu_x(0.542), alu_x(0.542),\n",
        "    alu_x(0.833), alu_x(0.833), alu_x(0.833),\n",
        "] + [steel_x(l) for l in L] # reuse data from previous experiment\n",
        "T1 = [\n",
        "    0.1403, 0.1401, 0.1401,\n",
        "    0.0898, 0.0897, 0.0898,\n",
        "    0.1830, 0.1813, 0.1826,\n",
        "    0.1087, 0.1097, 0.1085,\n",
        "    0.0745, 0.0745, 0.0745,\n",
        "    0.1715, 0.1725, 0.1715,\n",
        "] + T\n",
        "\n",
        "z = np.polyfit(x, T1, 1)\n",
        "p = np.poly1d(z)\n",
        "\n",
        "print(\"k = \", z[0])"
      ]
    },
    {
      "cell_type": "code",
      "execution_count": 22,
      "id": "dac640db",
      "metadata": {},
      "outputs": [
        {
          "data": {
            "image/png": "[encoded data removed]",
            "text/plain": [
              "<Figure size 640x480 with 1 Axes>"
            ]
          },
          "metadata": {},
          "output_type": "display_data"
        }
      ],
      "source": [
        "plt.plot(x, T1, 'x')\n",
        "plt.plot(x, p(x), 'r-')\n",
        "\n",
        "plt.xlabel('x / s')\n",
        "plt.ylabel('T / s')\n",
        "plt.grid(True)\n",
        "plt.show()"
      ]
    },
    {
      "cell_type": "markdown",
      "id": "8a52285c",
      "metadata": {},
      "source": [
        "_Oscillation time as a function of the product of all variables except the constant $k$._"
      ]
    },
    {
      "cell_type": "markdown",
      "id": "d6906660",
      "metadata": {
        "id": "d6906660"
      },
      "source": [
        "The value of $k$ was found to be $k=6.49$."
      ]
    },
    {
      "cell_type": "markdown",
      "id": "9ba9d5b9",
      "metadata": {
        "id": "9ba9d5b9"
      },
      "source": [
        "### Conclusion\n",
        "\n",
        "The formula for the period of the oscillation is\n",
        "\n",
        "$$T=6.49 \\frac{L^2}{t} \\sqrt{\\frac{\\rho}{E}}.$$\n",
        "\n",
        "The value of $k$ is _close enough_ to $2\\pi$ (the correct value of $k$)."
      ]
    }
  ],
  "metadata": {
    "colab": {
      "provenance": []
    },
    "kernelspec": {
      "display_name": "Python 3",
      "language": "python",
      "name": "python3"
    },
    "language_info": {
      "codemirror_mode": {
        "name": "ipython",
        "version": 3
      },
      "file_extension": ".py",
      "mimetype": "text/x-python",
      "name": "python",
      "nbconvert_exporter": "python",
      "pygments_lexer": "ipython3",
      "version": "3.12.3"
    }
  },
  "nbformat": 4,
  "nbformat_minor": 5
}
