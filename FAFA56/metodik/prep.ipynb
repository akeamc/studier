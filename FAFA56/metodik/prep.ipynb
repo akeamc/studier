{
 "cells": [
  {
   "cell_type": "markdown",
   "metadata": {},
   "source": [
    "1. Vid tillverkning av julgranskulor blåses varm luft in i en plastmassa på samma sätt\n",
    "som när man blåser såpbubblor. Plasten stelnar i sin sfäriska form när kulans radie\n",
    "fått en viss storlek. Övertrycket (𝑝) hos luften bestämmer kulans radie (𝑟) enligt\n",
    "tabellen.\n",
    "\n",
    "|$p \\space \\text{(Pa)}$|$r \\space \\text{(m)}$|\n",
    "|----|---|\n",
    "|980|0,050|\n",
    "|544|0,090|\n",
    "|326|0,15|\n",
    "|241|0,20|\n",
    "|204|0,24|\n",
    "|160|0,30|\n",
    "\n",
    "a) Ansätt ett samband av typen $p=a r^b$. Vad ska avsättas på diagramaxlarna för att\n",
    "du ska få en rät linje?\n",
    "\n",
    "b) Rita ett diagram i vilket mätpunkterna ligger på en rät linje, och bestäm ur\n",
    "diagrammet funktionssambandet mellan 𝑝 och 𝑟."
   ]
  },
  {
   "cell_type": "markdown",
   "metadata": {},
   "source": [
    "a) HL är ickelinjärt så vi logaritmerar bägge led: $\\ln p$ sätts på x-axeln och $\\ln(a r^b)=\\ln a + b \\ln r$ på y-axeln."
   ]
  },
  {
   "cell_type": "code",
   "execution_count": 28,
   "metadata": {},
   "outputs": [
    {
     "name": "stdout",
     "output_type": "stream",
     "text": [
      "k =  -0.9910431889627874\n",
      "m =  3.833001132197355\n",
      "e^m =  46.20098564638029\n"
     ]
    }
   ],
   "source": [
    "# b)\n",
    "import numpy as np\n",
    "import matplotlib.pyplot as plt\n",
    "\n",
    "p = [980, 544, 326, 241, 204, 160]\n",
    "r = [0.050, 0.090, 0.15, 0.20, 0.24, 0.30]\n",
    "\n",
    "lp = np.log(p)\n",
    "lr = np.log(r)\n",
    "z = np.polyfit(lp, lr, 1)\n",
    "poly = np.poly1d(z)\n",
    "\n",
    "print(\"k = \", z[0])\n",
    "print(\"m = \", z[1])\n",
    "print(\"e^m = \", np.exp(z[1]))"
   ]
  },
  {
   "cell_type": "markdown",
   "metadata": {},
   "source": [
    "Riktningskoefficienten $k \\approx -1$ i den anpassade linjen $k p + m$ motsvarar $b$ i uttrycket $\\ln a + b \\ln r$. Alltså är $b \\approx -1$. På samma sätt är $a = e^m \\approx 46 \\space \\text{N/m}$."
   ]
  },
  {
   "cell_type": "code",
   "execution_count": 27,
   "metadata": {},
   "outputs": [
    {
     "data": {
      "image/png": "[encoded data removed]",
      "text/plain": [
       "<Figure size 640x480 with 1 Axes>"
      ]
     },
     "metadata": {},
     "output_type": "display_data"
    }
   ],
   "source": [
    "plt.plot(lp, lr, 'x')  # Här valde vi 'x' som markör\n",
    "plt.plot(lp, poly(lp), 'r-.')\n",
    "\n",
    "plt.xlabel('ln(p / Pa)')\n",
    "plt.ylabel('ln(r / m)')\n",
    "plt.grid(True)\n",
    "plt.show()"
   ]
  },
  {
   "cell_type": "markdown",
   "metadata": {},
   "source": [
    "2. Ljudhastigheten i en stav beror på stavens densitet $\\rho$ och dess elasticitetsmodul $E$\n",
    "(enhet $1 \\text{N/m}^2$). Bestäm via produktansats sambandet för ljudhastigheten.\n",
    "\n",
    "Vi har\n",
    "\n",
    "$$v=k\\rho^\\alpha E^\\beta$$\n",
    "\n",
    "med en dimensionslös konstant $k$ och två okända exponenter $\\alpha, \\space \\beta$. Dimensionsanalys ger\n",
    "\n",
    "$$ \\providecommand{\\M}{\\text{M}}\n",
    "\\providecommand{\\L}{\\text{L}}\n",
    "\\providecommand{\\T}{\\text{T}}\n",
    "[\\L\\T^{-1}]=[\\M\\L^{-3}]^\\alpha [\\M\\L^{-1}\\T^{-2}]^\\beta.$$\n",
    "\n",
    "Vi får ekvationssystemet\n",
    "\n",
    "$$\\begin{cases}\n",
    "  1=-3\\alpha-\\beta\\\\\n",
    "  -1=-2\\beta\\\\\n",
    "  0=\\alpha+\\beta\n",
    "\\end{cases}$$\n",
    "\n",
    "med lösningen\n",
    "\n",
    "$$\\begin{cases}\n",
    "  \\alpha=-\\frac{1}{2}\\\\\n",
    "  \\beta=\\frac{1}{2}\\\\\n",
    "\\end{cases}$$\n",
    "\n",
    "så\n",
    "\n",
    "$$v=k\\sqrt{\\frac{E}{\\rho}} \\quad ✨$$"
   ]
  },
  {
   "cell_type": "markdown",
   "metadata": {},
   "source": [
    "3. När en vätska strömmar laminärt (utan virvelbildning) genom ett rör kan man\n",
    "härleda ett enkelt uttryck för hur tryckfallet per längdenhet ändras i röret.\n",
    "Sambandet (som kallas Poiseuilles lag) fungerar dock inte alls när strömningen blir\n",
    "turbulent. Då krävs både dimensionsanalys (med rätt ansats) och en del ex-\n",
    "perimenterande för att få fram ett samband. Låt oss anta att tryckfallet per\n",
    "längdenhet ($\\Delta p/L$) bara beror på rörets diameter ($D$), strömningshastigheten ($v$),\n",
    "vätskans densitet ($\\rho$) och dess viskositet ($\\eta$)."
   ]
  },
  {
   "cell_type": "markdown",
   "metadata": {},
   "source": [
    "a) Gör en produktansats och ställ upp de ekvationer som enheterna ger upphov till.\n",
    "Hur många obekanta får du och hur många ekvationer?\n",
    "\n",
    "$$\\Delta p/L=k D^\\alpha v^\\beta \\rho^\\gamma \\eta^\\delta$$\n",
    "med någon dimensionslös konstant $k$. Dimensionsanalys ger\n",
    "$$\\providecommand{\\M}{\\text{M}}\n",
    "\\providecommand{\\L}{\\text{L}}\n",
    "\\providecommand{\\T}{\\text{T}}\n",
    "[\\M \\L^{-2} \\T^{-2}]=[\\L]^\\alpha [\\L \\T^{-1}]^\\beta [\\M \\L^{-3}]^\\gamma [\\M \\L^{-1} \\T^{-1}]^\\delta$$\n",
    "och vi får ekvationssystemet\n",
    "$$\\begin{cases}\n",
    "  1=\\gamma+\\delta\\\\\n",
    "  -2=\\alpha+\\beta-3\\gamma-\\delta\\\\\n",
    "  -2=-\\beta-\\delta\\\\\n",
    "\\end{cases}$$\n",
    "som har tre ekvationer och fyra obekanta."
   ]
  },
  {
   "cell_type": "markdown",
   "metadata": {},
   "source": [
    "b) $D$."
   ]
  },
  {
   "cell_type": "markdown",
   "metadata": {},
   "source": [
    "c) Insättning av $\\beta=7/4$ i ekvationssystemet ger\n",
    "$$\\begin{cases}\n",
    "  \\alpha=-\\frac{5}{4}\\\\ \n",
    "  \\beta=\\frac{7}{4}\\\\\n",
    "  \\gamma=\\frac{3}{4}\\\\\n",
    "  \\delta=\\frac{1}{4}\\\\\n",
    "\\end{cases}$$\n",
    "så\n",
    "$$\\Delta p/L=k D^{-5/4} v^{7/4} \\rho^{3/4} \\eta^{1/4}.$$"
   ]
  },
  {
   "cell_type": "markdown",
   "metadata": {},
   "source": [
    "d) Dividera $\\Delta p/L$ med $D^{-5/4} v^{7/4} \\rho^{3/4} \\eta^{1/4}$."
   ]
  }
 ],
 "metadata": {
  "kernelspec": {
   "display_name": "Python 3",
   "language": "python",
   "name": "python3"
  },
  "language_info": {
   "codemirror_mode": {
    "name": "ipython",
    "version": 3
   },
   "file_extension": ".py",
   "mimetype": "text/x-python",
   "name": "python",
   "nbconvert_exporter": "python",
   "pygments_lexer": "ipython3",
   "version": "3.12.3"
  }
 },
 "nbformat": 4,
 "nbformat_minor": 2
}
